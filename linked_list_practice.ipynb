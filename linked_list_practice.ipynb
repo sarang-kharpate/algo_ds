{
  "nbformat": 4,
  "nbformat_minor": 0,
  "metadata": {
    "colab": {
      "name": "linked_list_practice.ipynb",
      "provenance": [],
      "collapsed_sections": [],
      "authorship_tag": "ABX9TyO6L7mgmphJZqKZI2DhmJ7E"
    },
    "kernelspec": {
      "name": "python3",
      "display_name": "Python 3"
    },
    "language_info": {
      "name": "python"
    }
  },
  "cells": [
    {
      "cell_type": "markdown",
      "metadata": {
        "id": "XXu8GJStgRLB"
      },
      "source": [
        "*Implementation of Linked List*"
      ]
    },
    {
      "cell_type": "markdown",
      "metadata": {
        "id": "GL3ybgpk2lWW"
      },
      "source": [
        "### Single Link List"
      ]
    },
    {
      "cell_type": "code",
      "metadata": {
        "id": "w-xlP8zkf7lR"
      },
      "source": [
        "\"\"\"\n",
        "If each node of link list contains only one link i.e. link of next node.\n",
        "It is chain of nodes, contains data and link to next node.\n",
        "Moving in one/forward direction is easire and opposite is not easier. \n",
        "Operations :\n",
        "1. add/insertion : To add new element we have to break the link. We can add element in the start, end and in between.\n",
        "    a) Add element in the beginning\n",
        "       1. Create a node, add data and link, link will point to null\n",
        "       2. Point the link of this node to head link (address of the first node)\n",
        "       3. Point head to the new node (newly created node)\n",
        "    b) Adding element in the end\n",
        "       1. Create a node, add data and link, link will point to null\n",
        "       2. Traverse to the last node\n",
        "       3. Change the link of the last node to the newly created node.\n",
        "    c) Add node between two nodes. \n",
        "       1. Create a node, add data and link, link will point to null\n",
        "       2. Traverse to the previous node (i.e place where you want to put your node next)\n",
        "       3. Point the link of previous node to newly created node\n",
        "       4. Change the address of newly created node to the next nodes address.\n",
        "2. delete element from beginings or in the end or in middle\n",
        "    a) Delete element in the begining:\n",
        "        1. Change the link of head to second node. \n",
        "    b) Delete element in the end\n",
        "        1. Change the link of second last node to null\n",
        "    c) Delete the element in the middle.\n",
        "        1. traverese to the element previous the to deleted element\n",
        "        2. Change the element address to the next node of the deleted element \n",
        "3. Traversal \n",
        "\"\"\"\n",
        "# Creating linked list using class method\n",
        "\n",
        "class Node:\n",
        "\n",
        "    def __init__(self, data):\n",
        "        self.data = data\n",
        "        self.ref = None\n",
        "\n",
        "class LinkedList:\n",
        "\n",
        "    def __init__(self):\n",
        "        self.head = None\n",
        "\n",
        "    def print_LL(self):\n",
        "        \"\"\"Method to traverse Linked List\"\"\"\n",
        "        if self.head is None:\n",
        "            print('Linked List is empty')\n",
        "        else:\n",
        "            n = self.head\n",
        "            while n is not None:\n",
        "                print(n.data, '-->', end=' ')\n",
        "                n = n.ref\n",
        "    \n",
        "    def add_begin(self, data):\n",
        "        new_node = Node(data)\n",
        "        new_node.ref = self.head\n",
        "        self.head = new_node\n",
        "\n",
        "    def add_end(self, data):\n",
        "        new_node = Node(data)\n",
        "        if self.head is None:\n",
        "            self.head = new_node\n",
        "        else:\n",
        "            n = self.head\n",
        "            while n.ref is not None:\n",
        "                n = n.ref\n",
        "            n.ref = new_node\n",
        "\n",
        "LL1 = LinkedList()\n",
        "print(LL1)\n",
        "LL1.add_begin(10)\n",
        "LL1.add_end(100)\n",
        "LL1.add_end(500)\n",
        "LL1.add_begin(20)\n",
        "LL1.print_LL()\n",
        "        \n"
      ],
      "execution_count": null,
      "outputs": []
    },
    {
      "cell_type": "markdown",
      "metadata": {
        "id": "gMhtRkmzgPUc"
      },
      "source": [
        ""
      ]
    },
    {
      "cell_type": "markdown",
      "metadata": {
        "id": "H-kQDIHJgI_-"
      },
      "source": [
        ""
      ]
    }
  ]
}