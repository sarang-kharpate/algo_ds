{
  "nbformat": 4,
  "nbformat_minor": 0,
  "metadata": {
    "colab": {
      "name": "queue.ipynb",
      "provenance": [],
      "collapsed_sections": [],
      "authorship_tag": "ABX9TyOP0NyhFqCBu0VWIZGJ52Xv"
    },
    "kernelspec": {
      "name": "python3",
      "display_name": "Python 3"
    },
    "language_info": {
      "name": "python"
    }
  },
  "cells": [
    {
      "cell_type": "code",
      "metadata": {
        "id": "oH0oKOjvqImb"
      },
      "source": [
        "\"\"\" Queue follow LIFO or FILO structure. It represent real life queues. \n",
        "Elements added first will be removed first. \n",
        "Process of adding elements is called 'enqueue' and process of removing elements is called 'dequeue'.\n",
        "Queue is open at both end. \n",
        "\"\"\"\n",
        "queue = []\n",
        "queue.append(10)\n",
        "print(f'Value of queue is {queue}')\n",
        "queue.append(20)\n",
        "print(f'Value of queue is {queue}')\n",
        "queue.append(30)\n",
        "print(f'Value of queue is {queue}')\n",
        "# Since we are appending from right, we will remove from left first.\n",
        "e = queue.pop(0)\n",
        "print(f'Element removed is : {e}')\n",
        "print(f'Value of queue is {queue}')\n",
        "e = queue.pop(0)\n",
        "print(f'Element removed is : {e}')\n",
        "print(f'Value of queue is {queue}')\n",
        "e = queue.pop(0)\n",
        "print(f'Element removed is : {e}')\n",
        "print(f'Value of queue is {queue}')\n",
        "# We can add element from left and remove elements from right. \n",
        "queue = []\n",
        "queue.insert(0, 10)\n",
        "print(f'Value of queue is {queue}')\n",
        "queue.insert(0, 20)\n",
        "print(f'Value of queue is {queue}')\n",
        "queue.insert(0, 30)\n",
        "print(f'Value of queue is {queue}')\n",
        "e = queue.pop()\n",
        "print(f'Element removed is : {e}')\n",
        "print(f'Value of queue is {queue}')\n",
        "e = queue.pop()\n",
        "print(f'Element removed is : {e}')\n",
        "print(f'Value of queue is {queue}')\n",
        "e = queue.pop()\n",
        "print(f'Element removed is : {e}')\n",
        "print(f'Value of queue is {queue}')"
      ],
      "execution_count": null,
      "outputs": []
    },
    {
      "cell_type": "code",
      "metadata": {
        "id": "GGgvqKSq76n1"
      },
      "source": [
        "\"\"\" Queue follow LIFO or FILO structure. It represent real life queues. \n",
        "Elements added first will be removed first. \n",
        "Process of adding elements is called 'enqueue' and process of removing elements is called 'dequeue'.\n",
        "Queue is open at both end. \n",
        "\"\"\"\n",
        "\n",
        "# Create a program using queues\n",
        "\n",
        "\n",
        "queue = []\n",
        "\n",
        "def enqueue():\n",
        "    if len(queue) == 10:\n",
        "        print('Queue is full.')\n",
        "    else:\n",
        "        e = input('Enter element: ')\n",
        "        queue.append(e)\n",
        "        print(f'Value of queue is: {queue}')\n",
        "\n",
        "def dequeue():\n",
        "    if not queue:\n",
        "        print('Empty Queue')\n",
        "    else:\n",
        "        e = queue.pop(0)\n",
        "        print(f'Removed Element: {e}')\n",
        "        print(f'Value of queue is: {queue}')\n",
        "\n",
        "def display():\n",
        "    print(f'Value of queue is: {queue}')\n",
        "\n",
        "while True:\n",
        "    c = int(input('Enter you choice. 1. Enqueue 2. Dequeue 3. Quit 4. Display :'))\n",
        "    if c == 1:\n",
        "        enqueue()\n",
        "    elif c == 2:\n",
        "        dequeue()\n",
        "    elif c == 3:\n",
        "        break\n",
        "    elif c == 4:\n",
        "        display()\n",
        "    else:\n",
        "        print('Enter correct choice')\n"
      ],
      "execution_count": null,
      "outputs": []
    }
  ]
}