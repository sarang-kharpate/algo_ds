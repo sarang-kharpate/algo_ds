{
  "nbformat": 4,
  "nbformat_minor": 0,
  "metadata": {
    "colab": {
      "name": "queue.ipynb",
      "provenance": [],
      "authorship_tag": "ABX9TyMGVLiclWTRoWt8zx+QJ6TU"
    },
    "kernelspec": {
      "name": "python3",
      "display_name": "Python 3"
    },
    "language_info": {
      "name": "python"
    }
  },
  "cells": [
    {
      "cell_type": "code",
      "metadata": {
        "id": "oH0oKOjvqImb"
      },
      "source": [
        "\"\"\" Queue follow LIFO or FILO structure. It represent real life queues. \n",
        "Elements added first will be removed first. \n",
        "Process of adding elements is called 'enqueue' and process of removing elements is called 'dequeue'.\n",
        "Queue is open at both end. \n",
        "\"\"\"\n",
        "queue = []\n",
        "queue.append(10)\n",
        "print(f'Value of queue is {queue}')\n",
        "queue.append(20)\n",
        "print(f'Value of queue is {queue}')\n",
        "queue.append(30)\n",
        "print(f'Value of queue is {queue}')\n",
        "# Since we are appending from right, we will remove from left first.\n",
        "e = queue.pop(0)\n",
        "print(f'Element removed is : {e}')\n",
        "print(f'Value of queue is {queue}')\n",
        "e = queue.pop(0)\n",
        "print(f'Element removed is : {e}')\n",
        "print(f'Value of queue is {queue}')\n",
        "e = queue.pop(0)\n",
        "print(f'Element removed is : {e}')\n",
        "print(f'Value of queue is {queue}')\n",
        "# We can add element from left and remove elements from right. \n",
        "queue = []\n",
        "queue.insert(0, 10)\n",
        "print(f'Value of queue is {queue}')\n",
        "queue.insert(0, 20)\n",
        "print(f'Value of queue is {queue}')\n",
        "queue.insert(0, 30)\n",
        "print(f'Value of queue is {queue}')\n",
        "e = queue.pop()\n",
        "print(f'Element removed is : {e}')\n",
        "print(f'Value of queue is {queue}')\n",
        "e = queue.pop()\n",
        "print(f'Element removed is : {e}')\n",
        "print(f'Value of queue is {queue}')\n",
        "e = queue.pop()\n",
        "print(f'Element removed is : {e}')\n",
        "print(f'Value of queue is {queue}')"
      ],
      "execution_count": null,
      "outputs": []
    }
  ]
}