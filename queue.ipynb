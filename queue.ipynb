{
  "nbformat": 4,
  "nbformat_minor": 0,
  "metadata": {
    "colab": {
      "name": "queue.ipynb",
      "provenance": [],
      "collapsed_sections": [],
      "authorship_tag": "ABX9TyOfSGOezfT/S91wJrbvVFGj"
    },
    "kernelspec": {
      "name": "python3",
      "display_name": "Python 3"
    },
    "language_info": {
      "name": "python"
    }
  },
  "cells": [
    {
      "cell_type": "code",
      "metadata": {
        "id": "oH0oKOjvqImb"
      },
      "source": [
        "\"\"\" Queue follow LIFO or FILO structure. It represent real life queues. \n",
        "Elements added first will be removed first. \n",
        "Process of adding elements is called 'enqueue' and process of removing elements is called 'dequeue'.\n",
        "Queue is open at both end. \n",
        "\"\"\"\n",
        "queue = []\n",
        "queue.append(10)\n",
        "print(f'Value of queue is {queue}')\n",
        "queue.append(20)\n",
        "print(f'Value of queue is {queue}')\n",
        "queue.append(30)\n",
        "print(f'Value of queue is {queue}')\n",
        "# Since we are appending from right, we will remove from left first.\n",
        "e = queue.pop(0)\n",
        "print(f'Element removed is : {e}')\n",
        "print(f'Value of queue is {queue}')\n",
        "e = queue.pop(0)\n",
        "print(f'Element removed is : {e}')\n",
        "print(f'Value of queue is {queue}')\n",
        "e = queue.pop(0)\n",
        "print(f'Element removed is : {e}')\n",
        "print(f'Value of queue is {queue}')\n",
        "# We can add element from left and remove elements from right. \n",
        "queue = []\n",
        "queue.insert(0, 10)\n",
        "print(f'Value of queue is {queue}')\n",
        "queue.insert(0, 20)\n",
        "print(f'Value of queue is {queue}')\n",
        "queue.insert(0, 30)\n",
        "print(f'Value of queue is {queue}')\n",
        "e = queue.pop()\n",
        "print(f'Element removed is : {e}')\n",
        "print(f'Value of queue is {queue}')\n",
        "e = queue.pop()\n",
        "print(f'Element removed is : {e}')\n",
        "print(f'Value of queue is {queue}')\n",
        "e = queue.pop()\n",
        "print(f'Element removed is : {e}')\n",
        "print(f'Value of queue is {queue}')"
      ],
      "execution_count": null,
      "outputs": []
    },
    {
      "cell_type": "code",
      "metadata": {
        "id": "GGgvqKSq76n1"
      },
      "source": [
        "\"\"\" Queue follow LIFO or FILO structure. It represent real life queues. \n",
        "Elements added first will be removed first. \n",
        "Process of adding elements is called 'enqueue' and process of removing elements is called 'dequeue'.\n",
        "Queue is open at both end. \n",
        "\"\"\"\n",
        "\n",
        "# Create a program using queues\n",
        "\n",
        "\n",
        "queue = []\n",
        "\n",
        "def enqueue():\n",
        "    if len(queue) == 10:\n",
        "        print('Queue is full.')\n",
        "    else:\n",
        "        e = input('Enter element: ')\n",
        "        queue.append(e)\n",
        "        print(f'Value of queue is: {queue}')\n",
        "\n",
        "def dequeue():\n",
        "    if not queue:\n",
        "        print('Empty Queue')\n",
        "    else:\n",
        "        e = queue.pop(0)\n",
        "        print(f'Removed Element: {e}')\n",
        "        print(f'Value of queue is: {queue}')\n",
        "\n",
        "def display():\n",
        "    print(f'Value of queue is: {queue}')\n",
        "\n",
        "while True:\n",
        "    c = int(input('Enter you choice. 1. Enqueue 2. Dequeue 3. Quit 4. Display :'))\n",
        "    if c == 1:\n",
        "        enqueue()\n",
        "    elif c == 2:\n",
        "        dequeue()\n",
        "    elif c == 3:\n",
        "        break\n",
        "    elif c == 4:\n",
        "        display()\n",
        "    else:\n",
        "        print('Enter correct choice')\n"
      ],
      "execution_count": null,
      "outputs": []
    },
    {
      "cell_type": "code",
      "metadata": {
        "colab": {
          "base_uri": "https://localhost:8080/"
        },
        "id": "foEXTLlFxTJB",
        "outputId": "b6f28375-ee79-4267-9933-5023dd0199ab"
      },
      "source": [
        "\"\"\" \n",
        "Implementing Queues using collections module.\n",
        "appendleft <--> pop\n",
        "popleft <--> append\n",
        "Another implementation of Queue using queue module\n",
        "\"\"\"  \n",
        "import collections\n",
        "from queue import Queue\n",
        "\n",
        "\n",
        "q = collections.deque()\n",
        "# Appendleft is used with Pop\n",
        "q.appendleft(10)\n",
        "print(q) \n",
        "q.appendleft(20) \n",
        "print(q) \n",
        "q.appendleft(30) \n",
        "print(q) \n",
        "q.pop()\n",
        "print(q) \n",
        "q.pop()\n",
        "print(q) \n",
        "q.pop()\n",
        "print(q) \n",
        "\n",
        "# Append is used with Popleft\n",
        "q.append(10)\n",
        "print(q) \n",
        "q.append(20) \n",
        "print(q) \n",
        "q.append(30) \n",
        "print(q) \n",
        "q.popleft()\n",
        "print(q) \n",
        "q.popleft()\n",
        "print(q) \n",
        "q.popleft()\n",
        "print(q) \n",
        "\n",
        "q = Queue()\n",
        "q.put(10)\n",
        "q.put(20)\n",
        "q.put(30)\n",
        "# If we print q will not get any output as q is object \n",
        "print(q)\n",
        "a = q.get()\n",
        "print(a)\n",
        "a = q.get()\n",
        "print(a)\n",
        "a = q.get()\n",
        "print(a)\n"
      ],
      "execution_count": null,
      "outputs": [
        {
          "output_type": "stream",
          "text": [
            "deque([10])\n",
            "deque([20, 10])\n",
            "deque([30, 20, 10])\n",
            "deque([30, 20])\n",
            "deque([30])\n",
            "deque([])\n",
            "deque([10])\n",
            "deque([10, 20])\n",
            "deque([10, 20, 30])\n",
            "deque([20, 30])\n",
            "deque([30])\n",
            "deque([])\n",
            "<queue.Queue object at 0x7fd1e9415b50>\n",
            "10\n",
            "20\n",
            "30\n"
          ],
          "name": "stdout"
        }
      ]
    },
    {
      "cell_type": "markdown",
      "metadata": {
        "id": "FJxzhdnmfaOH"
      },
      "source": [
        "### Priority Queues"
      ]
    },
    {
      "cell_type": "code",
      "metadata": {
        "colab": {
          "base_uri": "https://localhost:8080/"
        },
        "id": "7X86WtmDfVJK",
        "outputId": "2d131a68-c236-490b-a23b-e5d46f6daedd"
      },
      "source": [
        "\"\"\" Pririty Queue is a form of queue in which elements are removed/used based on priority. \n",
        "Priority can be like lowest element will get highest priority or highest element will get highest priority. \n",
        "We can use list or in built class 'priorityqueue'.\n",
        "Best way to implement priority queue is by using binary heap queue.\n",
        "\"\"\"\n",
        "import queue\n",
        "\n",
        "q = queue.PriorityQueue()\n",
        "q.put(10)\n",
        "q.put(60)\n",
        "q.put(20)\n",
        "q.put(40)\n",
        "q.put(40)\n",
        "\n",
        "e = q.get()\n",
        "print(e)\n",
        "e = q.get()\n",
        "print(e)\n",
        "e = q.get()\n",
        "print(e)\n",
        "e = q.get()\n",
        "print(e)\n",
        "\n",
        "# Impelementing Priority Queues using tuples for list.\n",
        "q = []\n",
        "q.append((1, 'Alexa'))\n",
        "q.append((4, 'Alexas'))\n",
        "q.append((2, 'Ale'))\n",
        "print(q)\n",
        "q.sort(reverse=True)\n",
        "print(q)\n",
        "e = q.pop(0)\n",
        "print(e)\n",
        "e = q.pop(0)\n",
        "print(e)\n",
        "e = q.pop(0)\n",
        "print(e)"
      ],
      "execution_count": 1,
      "outputs": [
        {
          "output_type": "stream",
          "text": [
            "10\n",
            "20\n",
            "40\n",
            "40\n",
            "[(1, 'Alexa'), (4, 'Alexas'), (2, 'Ale')]\n",
            "[(4, 'Alexas'), (2, 'Ale'), (1, 'Alexa')]\n",
            "(4, 'Alexas')\n",
            "(2, 'Ale')\n",
            "(1, 'Alexa')\n"
          ],
          "name": "stdout"
        }
      ]
    }
  ]
}