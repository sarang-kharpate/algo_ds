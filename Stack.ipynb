{
  "nbformat": 4,
  "nbformat_minor": 0,
  "metadata": {
    "colab": {
      "name": "Stack.ipynb",
      "provenance": [],
      "collapsed_sections": [],
      "authorship_tag": "ABX9TyPEMnFGtEBne4+HVgbe2++1"
    },
    "kernelspec": {
      "name": "python3",
      "display_name": "Python 3"
    },
    "language_info": {
      "name": "python"
    }
  },
  "cells": [
    {
      "cell_type": "markdown",
      "metadata": {
        "id": "3Q_EUJPnWSLI"
      },
      "source": [
        "Creating Stack using append and pop function."
      ]
    },
    {
      "cell_type": "code",
      "metadata": {
        "id": "i4CQtAFLMNPi"
      },
      "source": [
        "stack = []\n",
        "\n",
        "def push():\n",
        "    element = input(\"Enter Element:\")\n",
        "    stack.append(element)\n",
        "    print(stack)\n",
        "    \n",
        "def pop_element():\n",
        "    if not stack:\n",
        "        print('Stack is empty!!')\n",
        "    else:\n",
        "        e = stack.pop()\n",
        "        print(f'Removed Element is: {e}')\n",
        "        print(stack)\n",
        "\n",
        "\n",
        "if __name__ == '__main__':\n",
        "\n",
        "    while True:\n",
        "        print('Select operation 1)Push 2)Pop 3)Quit')\n",
        "        choice = int(input())\n",
        "\n",
        "        if choice == 1:\n",
        "            push()\n",
        "        elif choice == 2:\n",
        "            pop_element()\n",
        "        elif choice == 3:\n",
        "            break\n",
        "        else:\n",
        "            print('Enter correct choice')"
      ],
      "execution_count": null,
      "outputs": []
    }
  ]
}